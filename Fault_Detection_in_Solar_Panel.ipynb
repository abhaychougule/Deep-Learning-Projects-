{
  "nbformat": 4,
  "nbformat_minor": 0,
  "metadata": {
    "colab": {
      "provenance": [],
      "gpuType": "T4"
    },
    "kernelspec": {
      "name": "python3",
      "display_name": "Python 3"
    },
    "language_info": {
      "name": "python"
    },
    "accelerator": "GPU"
  },
  "cells": [
    {
      "cell_type": "code",
      "execution_count": 1,
      "metadata": {
        "id": "SUz92V2Ed_9Y"
      },
      "outputs": [],
      "source": [
        "import numpy as np\n",
        "import pandas as pd\n",
        "import tensorflow as tf\n",
        "from tensorflow.keras import layers,models\n",
        "from tensorflow.keras.preprocessing.image import ImageDataGenerator"
      ]
    },
    {
      "cell_type": "code",
      "source": [
        "import cv2\n"
      ],
      "metadata": {
        "id": "VBsE-dAOeOod"
      },
      "execution_count": 2,
      "outputs": []
    },
    {
      "cell_type": "code",
      "source": [
        "train_datagen = ImageDataGenerator(rescale = 1./255,\n",
        "                                   shear_range = 0.2,\n",
        "                                   zoom_range = 0.2,\n",
        "                                   horizontal_flip = True)\n",
        "training_set = train_datagen.flow_from_directory('/content/drive/MyDrive/Faulty_solar_panel',\n",
        "                                                 target_size = (64, 64),\n",
        "                                                 batch_size = 32,\n",
        "                                                 class_mode = 'binary')"
      ],
      "metadata": {
        "colab": {
          "base_uri": "https://localhost:8080/"
        },
        "id": "XlqTMlGmf2P6",
        "outputId": "ef165862-3763-4767-e9b2-7776e7c78a39"
      },
      "execution_count": 3,
      "outputs": [
        {
          "output_type": "stream",
          "name": "stdout",
          "text": [
            "Found 825 images belonging to 6 classes.\n"
          ]
        }
      ]
    },
    {
      "cell_type": "code",
      "source": [
        "test_datagen = ImageDataGenerator(rescale = 1./255)\n",
        "test_set = test_datagen.flow_from_directory('/content/drive/MyDrive/Solar_Test_data',\n",
        "                                            target_size = (64, 64),\n",
        "                                            batch_size = 32,\n",
        "                                            class_mode = 'binary')"
      ],
      "metadata": {
        "colab": {
          "base_uri": "https://localhost:8080/"
        },
        "id": "taJ52oJchKPX",
        "outputId": "a082aa2d-af24-4f11-c03f-9595ac3e4ae0"
      },
      "execution_count": 4,
      "outputs": [
        {
          "output_type": "stream",
          "name": "stdout",
          "text": [
            "Found 60 images belonging to 6 classes.\n"
          ]
        }
      ]
    },
    {
      "cell_type": "code",
      "source": [
        "# Model Creation\n",
        "model = tf.keras.models.Sequential()\n",
        "model.add(tf.keras.layers.Conv2D(filters=32, kernel_size=3, activation='relu', input_shape=[64, 64, 3])) #conv2D Layer\n",
        "model.add(tf.keras.layers.MaxPool2D(pool_size=2, strides=2)) # MaxPooling Layer\n"
      ],
      "metadata": {
        "id": "0cBmZFs0kNcy"
      },
      "execution_count": 5,
      "outputs": []
    },
    {
      "cell_type": "code",
      "source": [
        "model.add(tf.keras.layers.Conv2D(filters=32, kernel_size=3, activation='relu'))\n",
        "model.add(tf.keras.layers.MaxPool2D(pool_size=2, strides=2))"
      ],
      "metadata": {
        "id": "HWsfcnaFoq5i"
      },
      "execution_count": 6,
      "outputs": []
    },
    {
      "cell_type": "code",
      "source": [
        "model.add(tf.keras.layers.Flatten())  #Resize /Reshape  Flatten Layer"
      ],
      "metadata": {
        "id": "iG_EgGi7o3YR"
      },
      "execution_count": 7,
      "outputs": []
    },
    {
      "cell_type": "code",
      "source": [
        "model.add(tf.keras.layers.Dense(units=128, activation='relu')) # ann input layer\n"
      ],
      "metadata": {
        "id": "VWzAxo2ipaO5"
      },
      "execution_count": 8,
      "outputs": []
    },
    {
      "cell_type": "code",
      "source": [
        "model.add(tf.keras.layers.Dense(units=1, activation='softmax')) #output layer"
      ],
      "metadata": {
        "id": "FbL4ro37piHe"
      },
      "execution_count": 9,
      "outputs": []
    },
    {
      "cell_type": "code",
      "source": [
        "model.compile(optimizer = 'adam', loss = 'binary_crossentropy', metrics = ['accuracy']) #compile layer"
      ],
      "metadata": {
        "id": "mEEyU_wCpsox"
      },
      "execution_count": 10,
      "outputs": []
    },
    {
      "cell_type": "code",
      "source": [],
      "metadata": {
        "id": "pBP_3Gy4slmC"
      },
      "execution_count": 10,
      "outputs": []
    },
    {
      "cell_type": "code",
      "source": [
        "# model.fit(x=training_set,y=test_set,batch_size=32,epochs = 5)\n",
        "model.fit(training_set,validation_steps=test_set,batch_size=32,epochs=10)"
      ],
      "metadata": {
        "colab": {
          "base_uri": "https://localhost:8080/"
        },
        "id": "I_9tTZZbqKfY",
        "outputId": "06e4d213-bb31-40a8-d6b3-d78ac548ce49"
      },
      "execution_count": 11,
      "outputs": [
        {
          "output_type": "stream",
          "name": "stdout",
          "text": [
            "Epoch 1/10\n",
            "26/26 [==============================] - 222s 8s/step - loss: -454.2906 - accuracy: 0.2218\n",
            "Epoch 2/10\n",
            "26/26 [==============================] - 23s 881ms/step - loss: -12761.3408 - accuracy: 0.2218\n",
            "Epoch 3/10\n",
            "26/26 [==============================] - 25s 937ms/step - loss: -118946.0391 - accuracy: 0.2218\n",
            "Epoch 4/10\n",
            "26/26 [==============================] - 22s 827ms/step - loss: -619823.4375 - accuracy: 0.2218\n",
            "Epoch 5/10\n",
            "26/26 [==============================] - 23s 870ms/step - loss: -2156216.2500 - accuracy: 0.2218\n",
            "Epoch 6/10\n",
            "26/26 [==============================] - 22s 832ms/step - loss: -5747635.0000 - accuracy: 0.2218\n",
            "Epoch 7/10\n",
            "26/26 [==============================] - 22s 858ms/step - loss: -12780874.0000 - accuracy: 0.2218\n",
            "Epoch 8/10\n",
            "26/26 [==============================] - 22s 818ms/step - loss: -25585570.0000 - accuracy: 0.2218\n",
            "Epoch 9/10\n",
            "26/26 [==============================] - 23s 877ms/step - loss: -46069320.0000 - accuracy: 0.2218\n",
            "Epoch 10/10\n",
            "26/26 [==============================] - 22s 861ms/step - loss: -76216968.0000 - accuracy: 0.2218\n"
          ]
        },
        {
          "output_type": "execute_result",
          "data": {
            "text/plain": [
              "<keras.src.callbacks.History at 0x7b2cbdd184c0>"
            ]
          },
          "metadata": {},
          "execution_count": 11
        }
      ]
    },
    {
      "cell_type": "code",
      "source": [
        "model.save('model.h5') # this is for model Save"
      ],
      "metadata": {
        "colab": {
          "base_uri": "https://localhost:8080/"
        },
        "id": "P1CHN0Vysmsy",
        "outputId": "5ed8e979-8844-4d11-9684-567c73af31cd"
      },
      "execution_count": 12,
      "outputs": [
        {
          "output_type": "stream",
          "name": "stderr",
          "text": [
            "/usr/local/lib/python3.10/dist-packages/keras/src/engine/training.py:3103: UserWarning: You are saving your model as an HDF5 file via `model.save()`. This file format is considered legacy. We recommend using instead the native Keras format, e.g. `model.save('my_model.keras')`.\n",
            "  saving_api.save_model(\n"
          ]
        }
      ]
    },
    {
      "cell_type": "code",
      "source": [
        "np.savetxt('labels.txt', training_set.classes, fmt='%d') #  this is for Saving Class Labels"
      ],
      "metadata": {
        "id": "x9eTstdlqtFR"
      },
      "execution_count": 13,
      "outputs": []
    }
  ]
}