{
  "nbformat": 4,
  "nbformat_minor": 0,
  "metadata": {
    "colab": {
      "provenance": []
    },
    "kernelspec": {
      "name": "python3",
      "display_name": "Python 3"
    },
    "language_info": {
      "name": "python"
    }
  },
  "cells": [
    {
      "cell_type": "code",
      "execution_count": null,
      "metadata": {
        "colab": {
          "base_uri": "https://localhost:8080/"
        },
        "id": "Rqmfc6D-sPnA",
        "outputId": "3757d1fe-a700-4534-dc09-3aae44b39fcb"
      },
      "outputs": [
        {
          "output_type": "stream",
          "name": "stdout",
          "text": [
            "Found 825 images belonging to 6 classes.\n",
            "Found 60 images belonging to 6 classes.\n",
            "6\n"
          ]
        }
      ],
      "source": [
        "import os\n",
        "import numpy as np\n",
        "from tensorflow.keras.preprocessing.image import ImageDataGenerator\n",
        "\n",
        "# Define directories for train and test data\n",
        "train_dir = '/content/drive/MyDrive/Faulty_solar_panel'# Train\n",
        "test_dir = '/content/drive/MyDrive/Solar_Test_data' # Test\n",
        "\n",
        "# Image dimensions\n",
        "img_height = 128\n",
        "img_width = 128\n",
        "batch_size = 32\n",
        "\n",
        "# Create ImageDataGenerator for data augmentation and preprocessing\n",
        "train_datagen = ImageDataGenerator(\n",
        "    rescale=1./255,      # Rescale pixel values to [0, 1]\n",
        "    rotation_range=20,   # Randomly rotate images\n",
        "    width_shift_range=0.2,  # Randomly shift images horizontally\n",
        "    height_shift_range=0.2, # Randomly shift images vertically\n",
        "    horizontal_flip=True   # Randomly flip images horizontally\n",
        ")\n",
        "\n",
        "test_datagen = ImageDataGenerator(rescale=1./255)  # Only rescale test images\n",
        "\n",
        "# Load and preprocess train images\n",
        "train_generator = train_datagen.flow_from_directory(\n",
        "    train_dir,\n",
        "    target_size=(img_height, img_width),\n",
        "    batch_size=batch_size,\n",
        "    class_mode='sparse'  # Use 'sparse' for integer labels\n",
        ")\n",
        "\n",
        "# Load and preprocess test images\n",
        "test_generator = test_datagen.flow_from_directory(\n",
        "    test_dir,\n",
        "    target_size=(img_height, img_width),\n",
        "    batch_size=batch_size,\n",
        "    class_mode='sparse'  # Use 'sparse' for integer labels\n",
        ")\n",
        "\n",
        "# Get the number of classes\n",
        "num_classes = len(train_generator.class_indices)\n",
        "\n",
        "# Example of how to use the generators with model.fit()\n",
        "# model.fit(train_generator, epochs=10, validation_data=test_generator)\n",
        "print(num_classes)\n"
      ]
    },
    {
      "cell_type": "code",
      "source": [
        " # from google.colab import drive\n",
        "# drive.mount('/content/drive')\n",
        "# by Racksonsit Developers intern project\n",
        "# Guide/AI Engineer:Abhay chougule"
      ],
      "metadata": {
        "id": "gb7ae4-BCLv_"
      },
      "execution_count": null,
      "outputs": []
    },
    {
      "cell_type": "code",
      "source": [
        "import tensorflow as tf\n",
        "from tensorflow.keras.models import Sequential\n",
        "from tensorflow.keras.layers import Conv2D, MaxPooling2D, Flatten, Dense\n",
        "\n",
        "# Define the CNN model\n",
        "model = Sequential([\n",
        "    Conv2D(32, (3, 3), activation='relu', input_shape=(img_height, img_width, 3)),\n",
        "    MaxPooling2D((2, 2)),\n",
        "    Conv2D(64, (3, 3), activation='relu'),\n",
        "    MaxPooling2D((2, 2)),\n",
        "    Flatten(),\n",
        "    Dense(64, activation='relu'),\n",
        "    Dense(num_classes, activation='softmax')\n",
        "])\n",
        "\n",
        "# Compile the model\n",
        "model.compile(optimizer='adam',\n",
        "              loss='sparse_categorical_crossentropy',\n",
        "              metrics=['accuracy'])\n",
        "\n",
        "# Train the model\n",
        "model.fit(train_generator, epochs=10, validation_data=test_generator)\n",
        "\n",
        "# # Evaluate the model\n",
        "# test_loss, test_acc = model.evaluate(test_generator)\n",
        "# print('Test accuracy:', test_acc)\n"
      ],
      "metadata": {
        "colab": {
          "base_uri": "https://localhost:8080/"
        },
        "id": "JBn3bzyss-yX",
        "outputId": "7802baf0-3068-4e6c-9558-5dbbd55c4a45"
      },
      "execution_count": null,
      "outputs": [
        {
          "output_type": "stream",
          "name": "stdout",
          "text": [
            "Epoch 1/10\n",
            "26/26 [==============================] - 270s 10s/step - loss: 1.9614 - accuracy: 0.2255 - val_loss: 1.8529 - val_accuracy: 0.2333\n",
            "Epoch 2/10\n",
            "26/26 [==============================] - 43s 2s/step - loss: 1.6445 - accuracy: 0.3055 - val_loss: 1.6459 - val_accuracy: 0.3167\n",
            "Epoch 3/10\n",
            "26/26 [==============================] - 40s 2s/step - loss: 1.5900 - accuracy: 0.3733 - val_loss: 1.7716 - val_accuracy: 0.2333\n",
            "Epoch 4/10\n",
            "26/26 [==============================] - 44s 2s/step - loss: 1.4677 - accuracy: 0.4024 - val_loss: 1.7953 - val_accuracy: 0.2500\n",
            "Epoch 5/10\n",
            "26/26 [==============================] - 41s 2s/step - loss: 1.4088 - accuracy: 0.4436 - val_loss: 1.6668 - val_accuracy: 0.3167\n",
            "Epoch 6/10\n",
            "26/26 [==============================] - 41s 2s/step - loss: 1.4102 - accuracy: 0.4570 - val_loss: 1.3738 - val_accuracy: 0.5000\n",
            "Epoch 7/10\n",
            "26/26 [==============================] - 44s 2s/step - loss: 1.3704 - accuracy: 0.4667 - val_loss: 1.3376 - val_accuracy: 0.5667\n",
            "Epoch 8/10\n",
            "26/26 [==============================] - 40s 2s/step - loss: 1.3397 - accuracy: 0.4703 - val_loss: 1.4568 - val_accuracy: 0.3667\n",
            "Epoch 9/10\n",
            "26/26 [==============================] - 41s 2s/step - loss: 1.3544 - accuracy: 0.4630 - val_loss: 1.4543 - val_accuracy: 0.3667\n",
            "Epoch 10/10\n",
            "26/26 [==============================] - 47s 2s/step - loss: 1.3153 - accuracy: 0.4727 - val_loss: 1.4738 - val_accuracy: 0.4667\n"
          ]
        },
        {
          "output_type": "execute_result",
          "data": {
            "text/plain": [
              "<keras.src.callbacks.History at 0x794435c13ee0>"
            ]
          },
          "metadata": {},
          "execution_count": 4
        }
      ]
    },
    {
      "cell_type": "code",
      "source": [
        "test_loss, test_acc = model.evaluate(train_generator)\n",
        "print('Test accuracy:', test_acc)"
      ],
      "metadata": {
        "colab": {
          "base_uri": "https://localhost:8080/"
        },
        "id": "7vooxiRfvTD6",
        "outputId": "325d0825-9eb5-4a02-a7a6-aa8fd707e7d3"
      },
      "execution_count": null,
      "outputs": [
        {
          "output_type": "stream",
          "name": "stdout",
          "text": [
            "26/26 [==============================] - 28s 1s/step - loss: 1.2654 - accuracy: 0.4982\n",
            "Test accuracy: 0.4981818199157715\n"
          ]
        }
      ]
    },
    {
      "cell_type": "code",
      "source": [
        "import os\n",
        "\n",
        "# Define paths to save the model and labels\n",
        "# model_path = 'path_to_save_model/my_model'\n",
        "# label_path = 'path_to_save_labels/labels.txt'\n",
        "\n",
        "# Save the model\n",
        "model.save(\"model1.h5\")\n",
        "\n",
        "# Save the class names (labels) to a text file\n",
        "class_names = list(train_generator.class_indices.keys())\n",
        "with open(\"labels.txt\", 'w') as f:\n",
        "    for class_name in class_names:\n",
        "        f.write(class_name + '\\n')\n",
        "\n",
        "print(\"Model and labels saved successfully.\")\n"
      ],
      "metadata": {
        "colab": {
          "base_uri": "https://localhost:8080/"
        },
        "id": "NeIg0_mqtXBU",
        "outputId": "7703ac58-4c0d-402f-890b-97d914204327"
      },
      "execution_count": null,
      "outputs": [
        {
          "output_type": "stream",
          "name": "stdout",
          "text": [
            "Model and labels saved successfully.\n"
          ]
        },
        {
          "output_type": "stream",
          "name": "stderr",
          "text": [
            "/usr/local/lib/python3.10/dist-packages/keras/src/engine/training.py:3103: UserWarning: You are saving your model as an HDF5 file via `model.save()`. This file format is considered legacy. We recommend using instead the native Keras format, e.g. `model.save('my_model.keras')`.\n",
            "  saving_api.save_model(\n"
          ]
        }
      ]
    },
    {
      "cell_type": "code",
      "source": [
        "import os\n",
        "import numpy as np\n",
        "import tensorflow as tf\n",
        "from tensorflow.keras.models import load_model\n",
        "\n",
        "# Load the saved model\n",
        "model_path = '/content/model1.h5'\n",
        "model = load_model(model_path)\n",
        "\n",
        "# Load the label file\n",
        "label_path = '/content/labels.txt'\n",
        "with open(label_path, 'r') as f:\n",
        "    class_names = f.read().splitlines()\n",
        "\n",
        "# Function to preprocess an image\n",
        "def preprocess_image(image_path):\n",
        "    img = tf.keras.preprocessing.image.load_img(image_path, target_size=(img_height, img_width))\n",
        "    img_array = tf.keras.preprocessing.image.img_to_array(img)\n",
        "    img_array = np.expand_dims(img_array, axis=0)\n",
        "    return img_array\n",
        "\n",
        "# Function to classify an image\n",
        "def classify_image(image_path):\n",
        "    img_array = preprocess_image(image_path)\n",
        "    predictions = model.predict(img_array)\n",
        "    predicted_class_index = np.argmax(predictions[0])\n",
        "    predicted_class_name = class_names[predicted_class_index]\n",
        "    return predicted_class_name\n",
        "\n",
        "# Test the model on a sample image\n",
        "sample_image_path = '/content/damage3.jpg'\n",
        "predicted_class = classify_image(sample_image_path)\n",
        "print('Predicted class:', predicted_class)\n"
      ],
      "metadata": {
        "colab": {
          "base_uri": "https://localhost:8080/"
        },
        "id": "xCkzBziCwSZe",
        "outputId": "2f3e0669-13a0-4edd-dbcc-d4eb74081aeb"
      },
      "execution_count": null,
      "outputs": [
        {
          "output_type": "stream",
          "name": "stdout",
          "text": [
            "1/1 [==============================] - 0s 81ms/step\n",
            "Predicted class: Physical-Damage\n"
          ]
        }
      ]
    },
    {
      "cell_type": "code",
      "source": [],
      "metadata": {
        "id": "vb2-MTxiw4FW"
      },
      "execution_count": null,
      "outputs": []
    }
  ]
}